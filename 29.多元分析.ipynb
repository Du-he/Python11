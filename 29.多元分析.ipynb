{
 "cells": [
  {
   "cell_type": "markdown",
   "id": "9054e53d-8422-47b6-a71d-6de1520e5405",
   "metadata": {},
   "source": [
    "# 多元分析"
   ]
  },
  {
   "cell_type": "markdown",
   "id": "0af28db8-8398-4e62-aaad-9d52b43a9cbf",
   "metadata": {},
   "source": [
    "## 聚类分析"
   ]
  },
  {
   "cell_type": "markdown",
   "id": "47239b43-30e7-4a07-9060-f1943befdd14",
   "metadata": {},
   "source": [
    "### 相似性度量"
   ]
  },
  {
   "cell_type": "markdown",
   "id": "a47529ce-13bb-4d64-a84a-66a0c24be43d",
   "metadata": {},
   "source": [
    "### 系统聚类法"
   ]
  },
  {
   "cell_type": "code",
   "execution_count": null,
   "id": "ee327bd9-b420-482b-be37-732f10c5af21",
   "metadata": {},
   "outputs": [],
   "source": []
  }
 ],
 "metadata": {
  "kernelspec": {
   "display_name": "Python 3 (ipykernel)",
   "language": "python",
   "name": "python3"
  },
  "language_info": {
   "codemirror_mode": {
    "name": "ipython",
    "version": 3
   },
   "file_extension": ".py",
   "mimetype": "text/x-python",
   "name": "python",
   "nbconvert_exporter": "python",
   "pygments_lexer": "ipython3",
   "version": "3.9.13"
  },
  "toc-autonumbering": true,
  "toc-showcode": true,
  "toc-showmarkdowntxt": true
 },
 "nbformat": 4,
 "nbformat_minor": 5
}
